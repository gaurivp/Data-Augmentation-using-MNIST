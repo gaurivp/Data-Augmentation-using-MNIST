{
  "cells": [
    {
      "cell_type": "code",
      "execution_count": null,
      "metadata": {
        "id": "04_lQDRunVs9"
      },
      "outputs": [],
      "source": [
        "import numpy as np \n",
        "import pandas as pd \n",
        "import matplotlib.pyplot as plt \n",
        "import tensorflow as tf \n",
        "from tensorflow import keras \n",
        "import scipy as sp \n",
        "import sklearn \n",
        "import seaborn as sns"
      ]
    },
    {
      "cell_type": "code",
      "execution_count": null,
      "metadata": {
        "id": "kLMBkpoGnatp"
      },
      "outputs": [],
      "source": [
        "from keras.datasets import mnist"
      ]
    },
    {
      "cell_type": "code",
      "execution_count": null,
      "metadata": {
        "colab": {
          "base_uri": "https://localhost:8080/"
        },
        "id": "tfTSjrW6ndpt",
        "outputId": "d3b89c00-2b9f-4fce-fba9-a2a33bf9376d"
      },
      "outputs": [
        {
          "output_type": "stream",
          "name": "stdout",
          "text": [
            "Downloading data from https://storage.googleapis.com/tensorflow/tf-keras-datasets/mnist.npz\n",
            "11493376/11490434 [==============================] - 0s 0us/step\n",
            "11501568/11490434 [==============================] - 0s 0us/step\n"
          ]
        }
      ],
      "source": [
        "(x_train, y_train), (x_test, y_test) = mnist.load_data()"
      ]
    },
    {
      "cell_type": "code",
      "execution_count": null,
      "metadata": {
        "colab": {
          "base_uri": "https://localhost:8080/",
          "height": 268
        },
        "id": "IDSYOeKJnfsR",
        "outputId": "cca4b8b1-65e1-4b9b-ce95-a75d7f5c1c2d"
      },
      "outputs": [
        {
          "output_type": "display_data",
          "data": {
            "text/plain": [
              "<Figure size 432x288 with 9 Axes>"
            ],
            "image/png": "[encoded data removed]"
          },
          "metadata": {
            "needs_background": "light"
          }
        }
      ],
      "source": [
        "from matplotlib import pyplot\n",
        "for n in range(0, 9):\n",
        "    pyplot.subplot(330 + 1 + n)\n",
        "    pyplot.imshow(x_train[n], cmap=pyplot.get_cmap('gray'))\n",
        "pyplot.show()"
      ]
    },
    {
      "cell_type": "code",
      "execution_count": null,
      "metadata": {
        "id": "TSlaL4juniib"
      },
      "outputs": [],
      "source": [
        "x_train = x_train.reshape((x_train.shape[0], 28, 28, 1))\n",
        "x_test = x_test.reshape((x_test.shape[0], 28, 28, 1))"
      ]
    },
    {
      "cell_type": "code",
      "execution_count": null,
      "metadata": {
        "id": "jr5sod2LnlTL"
      },
      "outputs": [],
      "source": [
        "x_train = x_train.astype('float32')\n",
        "x_test = x_test.astype('float32')"
      ]
    },
    {
      "cell_type": "code",
      "execution_count": null,
      "metadata": {
        "colab": {
          "base_uri": "https://localhost:8080/"
        },
        "id": "pq0UBUzKnno-",
        "outputId": "570f5f7e-2835-4cc9-866c-6db9bc668c94"
      },
      "outputs": [
        {
          "output_type": "stream",
          "name": "stderr",
          "text": [
            "/usr/local/lib/python3.7/dist-packages/keras_preprocessing/image/image_data_generator.py:337: UserWarning: This ImageDataGenerator specifies `zca_whitening`, which overrides setting of `featurewise_center`.\n",
            "  warnings.warn('This ImageDataGenerator specifies '\n"
          ]
        }
      ],
      "source": [
        "from keras.preprocessing.image import ImageDataGenerator\n",
        "\n",
        "datagen = ImageDataGenerator(\n",
        "        featurewise_center=False, \n",
        "        samplewise_center=False,  \n",
        "        featurewise_std_normalization=False,  \n",
        "        samplewise_std_normalization=False,  \n",
        "        zca_whitening=True,  \n",
        "        rotation_range=65, \n",
        "        brightness_range=[0.2,1.0],\n",
        "        zoom_range =[0.5,1.0], \n",
        "        width_shift_range=0.5,  \n",
        "        height_shift_range=0.5,  \n",
        "        horizontal_flip=True,  \n",
        "        vertical_flip=True) \n",
        "\n",
        "datagen.fit(x_train)"
      ]
    },
    {
      "cell_type": "code",
      "execution_count": null,
      "metadata": {
        "id": "MySh3QvsoPNY"
      },
      "outputs": [],
      "source": [
        "from keras.layers import Conv2D, MaxPooling2D, Activation, Flatten\n",
        "from keras.layers import Dense, Dropout\n",
        "from keras.models import Sequential\n",
        "\n",
        "model= Sequential()\n",
        "\n",
        "\n",
        "model.add(Conv2D(64, kernel_size=5,padding='same', activation =\"relu\", input_shape=(28,28,1)))\n",
        "model.add(MaxPooling2D(pool_size=(2, 2),strides=(2, 2)))\n",
        "\n",
        "model.add(Conv2D(32, kernel_size=5,padding='same', activation =\"relu\"))\n",
        "model.add(MaxPooling2D(pool_size=(2, 2), strides=(2, 2)))\n",
        "\n",
        "model.add(Conv2D(64, kernel_size=5,padding='same',  activation =\"relu\"))\n",
        "model.add(MaxPooling2D(pool_size=(2, 2), strides=(2, 2)))\n",
        "\n",
        "model.add(Flatten())\n",
        "\n",
        "model.add(Dense(128))\n",
        "model.add(Dropout(0.2))\n",
        "model.add(Activation(\"relu\"))\n",
        "\n",
        "model.add(Dense(512))\n",
        "model.add(Dropout(0.4))\n",
        "model.add(Activation(\"relu\"))\n",
        "\n",
        "model.add(Dense(10,  activation =\"softmax\"))"
      ]
    },
    {
      "cell_type": "code",
      "source": [
        "model.summary()"
      ],
      "metadata": {
        "colab": {
          "base_uri": "https://localhost:8080/"
        },
        "id": "e7PPAwmEJAYD",
        "outputId": "dd1f2fa5-2b5a-4c11-b865-e2f5e725f0e8"
      },
      "execution_count": null,
      "outputs": [
        {
          "output_type": "stream",
          "name": "stdout",
          "text": [
            "Model: \"sequential\"\n",
            "_________________________________________________________________\n",
            " Layer (type)                Output Shape              Param #   \n",
            "=================================================================\n",
            " conv2d (Conv2D)             (None, 28, 28, 64)        1664      \n",
            "                                                                 \n",
            " max_pooling2d (MaxPooling2D  (None, 14, 14, 64)       0         \n",
            " )                                                               \n",
            "                                                                 \n",
            " conv2d_1 (Conv2D)           (None, 14, 14, 32)        51232     \n",
            "                                                                 \n",
            " max_pooling2d_1 (MaxPooling  (None, 7, 7, 32)         0         \n",
            " 2D)                                                             \n",
            "                                                                 \n",
            " conv2d_2 (Conv2D)           (None, 7, 7, 64)          51264     \n",
            "                                                                 \n",
            " max_pooling2d_2 (MaxPooling  (None, 3, 3, 64)         0         \n",
            " 2D)                                                             \n",
            "                                                                 \n",
            " flatten (Flatten)           (None, 576)               0         \n",
            "                                                                 \n",
            " dense (Dense)               (None, 128)               73856     \n",
            "                                                                 \n",
            " dropout (Dropout)           (None, 128)               0         \n",
            "                                                                 \n",
            " activation (Activation)     (None, 128)               0         \n",
            "                                                                 \n",
            " dense_1 (Dense)             (None, 512)               66048     \n",
            "                                                                 \n",
            " dropout_1 (Dropout)         (None, 512)               0         \n",
            "                                                                 \n",
            " activation_1 (Activation)   (None, 512)               0         \n",
            "                                                                 \n",
            " dense_2 (Dense)             (None, 10)                5130      \n",
            "                                                                 \n",
            "=================================================================\n",
            "Total params: 249,194\n",
            "Trainable params: 249,194\n",
            "Non-trainable params: 0\n",
            "_________________________________________________________________\n"
          ]
        }
      ]
    },
    {
      "cell_type": "code",
      "execution_count": null,
      "metadata": {
        "id": "iNpmTE3aoh4p"
      },
      "outputs": [],
      "source": [
        "model.compile(loss='sparse_categorical_crossentropy', optimizer='adam',metrics=['accuracy'])"
      ]
    },
    {
      "cell_type": "code",
      "execution_count": null,
      "metadata": {
        "colab": {
          "base_uri": "https://localhost:8080/"
        },
        "id": "wDR6cIZyn6W9",
        "outputId": "e12f08b2-4cae-4faa-fea5-3f9229007d0e"
      },
      "outputs": [
        {
          "output_type": "stream",
          "name": "stdout",
          "text": [
            "Epoch 1/100\n",
            "469/469 - 18s - loss: 0.4033 - accuracy: 0.8961 - val_loss: 0.0527 - val_accuracy: 0.9826 - 18s/epoch - 37ms/step\n",
            "Epoch 2/100\n",
            "469/469 - 7s - loss: 0.0774 - accuracy: 0.9780 - val_loss: 0.0381 - val_accuracy: 0.9874 - 7s/epoch - 15ms/step\n",
            "Epoch 3/100\n",
            "469/469 - 7s - loss: 0.0566 - accuracy: 0.9838 - val_loss: 0.0409 - val_accuracy: 0.9874 - 7s/epoch - 15ms/step\n",
            "Epoch 4/100\n",
            "469/469 - 7s - loss: 0.0485 - accuracy: 0.9860 - val_loss: 0.0397 - val_accuracy: 0.9882 - 7s/epoch - 15ms/step\n",
            "Epoch 5/100\n",
            "469/469 - 7s - loss: 0.0383 - accuracy: 0.9894 - val_loss: 0.0418 - val_accuracy: 0.9879 - 7s/epoch - 15ms/step\n",
            "Epoch 6/100\n",
            "469/469 - 7s - loss: 0.0369 - accuracy: 0.9894 - val_loss: 0.0324 - val_accuracy: 0.9907 - 7s/epoch - 15ms/step\n",
            "Epoch 7/100\n",
            "469/469 - 7s - loss: 0.0341 - accuracy: 0.9906 - val_loss: 0.0356 - val_accuracy: 0.9898 - 7s/epoch - 15ms/step\n",
            "Epoch 8/100\n",
            "469/469 - 7s - loss: 0.0328 - accuracy: 0.9906 - val_loss: 0.0391 - val_accuracy: 0.9879 - 7s/epoch - 15ms/step\n",
            "Epoch 9/100\n",
            "469/469 - 7s - loss: 0.0304 - accuracy: 0.9916 - val_loss: 0.0425 - val_accuracy: 0.9889 - 7s/epoch - 15ms/step\n",
            "Epoch 10/100\n",
            "469/469 - 7s - loss: 0.0270 - accuracy: 0.9923 - val_loss: 0.0445 - val_accuracy: 0.9888 - 7s/epoch - 15ms/step\n",
            "Epoch 11/100\n",
            "469/469 - 7s - loss: 0.0266 - accuracy: 0.9925 - val_loss: 0.0466 - val_accuracy: 0.9905 - 7s/epoch - 15ms/step\n",
            "Epoch 12/100\n",
            "469/469 - 7s - loss: 0.0269 - accuracy: 0.9927 - val_loss: 0.0412 - val_accuracy: 0.9905 - 7s/epoch - 15ms/step\n",
            "Epoch 13/100\n",
            "469/469 - 7s - loss: 0.0259 - accuracy: 0.9930 - val_loss: 0.0518 - val_accuracy: 0.9896 - 7s/epoch - 15ms/step\n",
            "Epoch 14/100\n",
            "469/469 - 7s - loss: 0.0252 - accuracy: 0.9931 - val_loss: 0.0386 - val_accuracy: 0.9894 - 7s/epoch - 15ms/step\n",
            "Epoch 15/100\n",
            "469/469 - 7s - loss: 0.0248 - accuracy: 0.9930 - val_loss: 0.0339 - val_accuracy: 0.9918 - 7s/epoch - 15ms/step\n",
            "Epoch 16/100\n",
            "469/469 - 7s - loss: 0.0221 - accuracy: 0.9942 - val_loss: 0.0427 - val_accuracy: 0.9904 - 7s/epoch - 15ms/step\n",
            "Epoch 17/100\n",
            "469/469 - 7s - loss: 0.0245 - accuracy: 0.9937 - val_loss: 0.0340 - val_accuracy: 0.9916 - 7s/epoch - 15ms/step\n",
            "Epoch 18/100\n",
            "469/469 - 7s - loss: 0.0238 - accuracy: 0.9934 - val_loss: 0.0402 - val_accuracy: 0.9910 - 7s/epoch - 15ms/step\n",
            "Epoch 19/100\n",
            "469/469 - 7s - loss: 0.0215 - accuracy: 0.9941 - val_loss: 0.0551 - val_accuracy: 0.9887 - 7s/epoch - 15ms/step\n",
            "Epoch 20/100\n",
            "469/469 - 7s - loss: 0.0170 - accuracy: 0.9955 - val_loss: 0.0437 - val_accuracy: 0.9907 - 7s/epoch - 15ms/step\n",
            "Epoch 21/100\n",
            "469/469 - 7s - loss: 0.0209 - accuracy: 0.9949 - val_loss: 0.0356 - val_accuracy: 0.9917 - 7s/epoch - 15ms/step\n",
            "Epoch 22/100\n",
            "469/469 - 7s - loss: 0.0176 - accuracy: 0.9959 - val_loss: 0.0578 - val_accuracy: 0.9891 - 7s/epoch - 15ms/step\n",
            "Epoch 23/100\n",
            "469/469 - 7s - loss: 0.0230 - accuracy: 0.9946 - val_loss: 0.0382 - val_accuracy: 0.9923 - 7s/epoch - 15ms/step\n",
            "Epoch 24/100\n",
            "469/469 - 7s - loss: 0.0175 - accuracy: 0.9956 - val_loss: 0.0438 - val_accuracy: 0.9910 - 7s/epoch - 15ms/step\n",
            "Epoch 25/100\n",
            "469/469 - 7s - loss: 0.0215 - accuracy: 0.9951 - val_loss: 0.0454 - val_accuracy: 0.9891 - 7s/epoch - 15ms/step\n",
            "Epoch 26/100\n",
            "469/469 - 7s - loss: 0.0154 - accuracy: 0.9962 - val_loss: 0.0591 - val_accuracy: 0.9902 - 7s/epoch - 15ms/step\n",
            "Epoch 27/100\n",
            "469/469 - 7s - loss: 0.0156 - accuracy: 0.9962 - val_loss: 0.0647 - val_accuracy: 0.9891 - 7s/epoch - 16ms/step\n",
            "Epoch 28/100\n",
            "469/469 - 7s - loss: 0.0195 - accuracy: 0.9955 - val_loss: 0.0553 - val_accuracy: 0.9900 - 7s/epoch - 15ms/step\n",
            "Epoch 29/100\n",
            "469/469 - 7s - loss: 0.0217 - accuracy: 0.9949 - val_loss: 0.0574 - val_accuracy: 0.9899 - 7s/epoch - 15ms/step\n",
            "Epoch 30/100\n",
            "469/469 - 7s - loss: 0.0166 - accuracy: 0.9961 - val_loss: 0.0478 - val_accuracy: 0.9906 - 7s/epoch - 15ms/step\n",
            "Epoch 31/100\n",
            "469/469 - 7s - loss: 0.0120 - accuracy: 0.9970 - val_loss: 0.0598 - val_accuracy: 0.9910 - 7s/epoch - 15ms/step\n",
            "Epoch 32/100\n",
            "469/469 - 7s - loss: 0.0166 - accuracy: 0.9965 - val_loss: 0.0956 - val_accuracy: 0.9885 - 7s/epoch - 15ms/step\n",
            "Epoch 33/100\n",
            "469/469 - 7s - loss: 0.0185 - accuracy: 0.9962 - val_loss: 0.0577 - val_accuracy: 0.9902 - 7s/epoch - 15ms/step\n",
            "Epoch 34/100\n",
            "469/469 - 7s - loss: 0.0146 - accuracy: 0.9968 - val_loss: 0.0624 - val_accuracy: 0.9889 - 7s/epoch - 15ms/step\n",
            "Epoch 35/100\n",
            "469/469 - 7s - loss: 0.0169 - accuracy: 0.9964 - val_loss: 0.0488 - val_accuracy: 0.9899 - 7s/epoch - 15ms/step\n",
            "Epoch 36/100\n",
            "469/469 - 7s - loss: 0.0188 - accuracy: 0.9957 - val_loss: 0.0511 - val_accuracy: 0.9926 - 7s/epoch - 15ms/step\n",
            "Epoch 37/100\n",
            "469/469 - 7s - loss: 0.0135 - accuracy: 0.9968 - val_loss: 0.0650 - val_accuracy: 0.9906 - 7s/epoch - 15ms/step\n",
            "Epoch 38/100\n",
            "469/469 - 7s - loss: 0.0108 - accuracy: 0.9977 - val_loss: 0.0656 - val_accuracy: 0.9912 - 7s/epoch - 15ms/step\n",
            "Epoch 39/100\n",
            "469/469 - 7s - loss: 0.0187 - accuracy: 0.9960 - val_loss: 0.1000 - val_accuracy: 0.9890 - 7s/epoch - 15ms/step\n",
            "Epoch 40/100\n",
            "469/469 - 7s - loss: 0.0279 - accuracy: 0.9943 - val_loss: 0.0678 - val_accuracy: 0.9907 - 7s/epoch - 15ms/step\n",
            "Epoch 41/100\n",
            "469/469 - 7s - loss: 0.0165 - accuracy: 0.9966 - val_loss: 0.0643 - val_accuracy: 0.9910 - 7s/epoch - 15ms/step\n",
            "Epoch 42/100\n",
            "469/469 - 7s - loss: 0.0237 - accuracy: 0.9958 - val_loss: 0.0575 - val_accuracy: 0.9904 - 7s/epoch - 15ms/step\n",
            "Epoch 43/100\n",
            "469/469 - 7s - loss: 0.0176 - accuracy: 0.9966 - val_loss: 0.0699 - val_accuracy: 0.9908 - 7s/epoch - 15ms/step\n",
            "Epoch 44/100\n",
            "469/469 - 7s - loss: 0.0110 - accuracy: 0.9976 - val_loss: 0.0652 - val_accuracy: 0.9917 - 7s/epoch - 15ms/step\n",
            "Epoch 45/100\n",
            "469/469 - 7s - loss: 0.0114 - accuracy: 0.9976 - val_loss: 0.0654 - val_accuracy: 0.9918 - 7s/epoch - 15ms/step\n",
            "Epoch 46/100\n",
            "469/469 - 7s - loss: 0.0163 - accuracy: 0.9970 - val_loss: 0.0788 - val_accuracy: 0.9907 - 7s/epoch - 15ms/step\n",
            "Epoch 47/100\n",
            "469/469 - 7s - loss: 0.0141 - accuracy: 0.9972 - val_loss: 0.0734 - val_accuracy: 0.9897 - 7s/epoch - 15ms/step\n",
            "Epoch 48/100\n",
            "469/469 - 7s - loss: 0.0164 - accuracy: 0.9966 - val_loss: 0.0838 - val_accuracy: 0.9911 - 7s/epoch - 15ms/step\n",
            "Epoch 49/100\n",
            "469/469 - 7s - loss: 0.0269 - accuracy: 0.9957 - val_loss: 0.0685 - val_accuracy: 0.9911 - 7s/epoch - 15ms/step\n",
            "Epoch 50/100\n",
            "469/469 - 7s - loss: 0.0119 - accuracy: 0.9975 - val_loss: 0.0624 - val_accuracy: 0.9930 - 7s/epoch - 15ms/step\n",
            "Epoch 51/100\n",
            "469/469 - 7s - loss: 0.0304 - accuracy: 0.9956 - val_loss: 0.0566 - val_accuracy: 0.9910 - 7s/epoch - 15ms/step\n",
            "Epoch 52/100\n",
            "469/469 - 7s - loss: 0.0178 - accuracy: 0.9965 - val_loss: 0.0679 - val_accuracy: 0.9902 - 7s/epoch - 15ms/step\n",
            "Epoch 53/100\n",
            "469/469 - 7s - loss: 0.0123 - accuracy: 0.9973 - val_loss: 0.0863 - val_accuracy: 0.9908 - 7s/epoch - 15ms/step\n",
            "Epoch 54/100\n",
            "469/469 - 7s - loss: 0.0172 - accuracy: 0.9968 - val_loss: 0.0923 - val_accuracy: 0.9914 - 7s/epoch - 15ms/step\n",
            "Epoch 55/100\n",
            "469/469 - 7s - loss: 0.0218 - accuracy: 0.9962 - val_loss: 0.0839 - val_accuracy: 0.9897 - 7s/epoch - 15ms/step\n",
            "Epoch 56/100\n",
            "469/469 - 7s - loss: 0.0133 - accuracy: 0.9972 - val_loss: 0.1351 - val_accuracy: 0.9871 - 7s/epoch - 15ms/step\n",
            "Epoch 57/100\n",
            "469/469 - 7s - loss: 0.0140 - accuracy: 0.9976 - val_loss: 0.0971 - val_accuracy: 0.9914 - 7s/epoch - 14ms/step\n",
            "Epoch 58/100\n",
            "469/469 - 7s - loss: 0.0163 - accuracy: 0.9974 - val_loss: 0.1021 - val_accuracy: 0.9903 - 7s/epoch - 15ms/step\n",
            "Epoch 59/100\n",
            "469/469 - 7s - loss: 0.0225 - accuracy: 0.9964 - val_loss: 0.0858 - val_accuracy: 0.9911 - 7s/epoch - 15ms/step\n",
            "Epoch 60/100\n",
            "469/469 - 7s - loss: 0.0127 - accuracy: 0.9977 - val_loss: 0.1201 - val_accuracy: 0.9903 - 7s/epoch - 15ms/step\n",
            "Epoch 61/100\n",
            "469/469 - 7s - loss: 0.0183 - accuracy: 0.9970 - val_loss: 0.0895 - val_accuracy: 0.9903 - 7s/epoch - 15ms/step\n",
            "Epoch 62/100\n",
            "469/469 - 7s - loss: 0.0135 - accuracy: 0.9976 - val_loss: 0.0885 - val_accuracy: 0.9920 - 7s/epoch - 15ms/step\n",
            "Epoch 63/100\n",
            "469/469 - 7s - loss: 0.0103 - accuracy: 0.9982 - val_loss: 0.1615 - val_accuracy: 0.9905 - 7s/epoch - 15ms/step\n",
            "Epoch 64/100\n",
            "469/469 - 7s - loss: 0.0289 - accuracy: 0.9961 - val_loss: 0.1156 - val_accuracy: 0.9911 - 7s/epoch - 15ms/step\n",
            "Epoch 65/100\n",
            "469/469 - 7s - loss: 0.0218 - accuracy: 0.9964 - val_loss: 0.1231 - val_accuracy: 0.9901 - 7s/epoch - 15ms/step\n",
            "Epoch 66/100\n",
            "469/469 - 7s - loss: 0.0208 - accuracy: 0.9969 - val_loss: 0.0992 - val_accuracy: 0.9892 - 7s/epoch - 15ms/step\n",
            "Epoch 67/100\n",
            "469/469 - 7s - loss: 0.0185 - accuracy: 0.9969 - val_loss: 0.0929 - val_accuracy: 0.9913 - 7s/epoch - 15ms/step\n",
            "Epoch 68/100\n",
            "469/469 - 7s - loss: 0.0169 - accuracy: 0.9977 - val_loss: 0.1264 - val_accuracy: 0.9921 - 7s/epoch - 15ms/step\n",
            "Epoch 69/100\n",
            "469/469 - 7s - loss: 0.0181 - accuracy: 0.9973 - val_loss: 0.1110 - val_accuracy: 0.9905 - 7s/epoch - 15ms/step\n",
            "Epoch 70/100\n",
            "469/469 - 7s - loss: 0.0178 - accuracy: 0.9973 - val_loss: 0.1494 - val_accuracy: 0.9901 - 7s/epoch - 15ms/step\n",
            "Epoch 71/100\n",
            "469/469 - 7s - loss: 0.0258 - accuracy: 0.9967 - val_loss: 0.0704 - val_accuracy: 0.9911 - 7s/epoch - 15ms/step\n",
            "Epoch 72/100\n",
            "469/469 - 7s - loss: 0.0133 - accuracy: 0.9977 - val_loss: 0.1290 - val_accuracy: 0.9910 - 7s/epoch - 15ms/step\n",
            "Epoch 73/100\n",
            "469/469 - 7s - loss: 0.0161 - accuracy: 0.9977 - val_loss: 0.1392 - val_accuracy: 0.9893 - 7s/epoch - 14ms/step\n",
            "Epoch 74/100\n",
            "469/469 - 7s - loss: 0.0181 - accuracy: 0.9977 - val_loss: 0.1149 - val_accuracy: 0.9914 - 7s/epoch - 15ms/step\n",
            "Epoch 75/100\n",
            "469/469 - 7s - loss: 0.0127 - accuracy: 0.9981 - val_loss: 0.0962 - val_accuracy: 0.9919 - 7s/epoch - 14ms/step\n",
            "Epoch 76/100\n",
            "469/469 - 7s - loss: 0.0119 - accuracy: 0.9980 - val_loss: 0.1219 - val_accuracy: 0.9905 - 7s/epoch - 15ms/step\n",
            "Epoch 77/100\n",
            "469/469 - 7s - loss: 0.0164 - accuracy: 0.9974 - val_loss: 0.1285 - val_accuracy: 0.9915 - 7s/epoch - 15ms/step\n",
            "Epoch 78/100\n",
            "469/469 - 7s - loss: 0.0132 - accuracy: 0.9981 - val_loss: 0.1122 - val_accuracy: 0.9910 - 7s/epoch - 15ms/step\n",
            "Epoch 79/100\n",
            "469/469 - 7s - loss: 0.0158 - accuracy: 0.9974 - val_loss: 0.0881 - val_accuracy: 0.9908 - 7s/epoch - 15ms/step\n",
            "Epoch 80/100\n",
            "469/469 - 7s - loss: 0.0160 - accuracy: 0.9973 - val_loss: 0.1136 - val_accuracy: 0.9900 - 7s/epoch - 15ms/step\n",
            "Epoch 81/100\n",
            "469/469 - 7s - loss: 0.0186 - accuracy: 0.9972 - val_loss: 0.1312 - val_accuracy: 0.9904 - 7s/epoch - 15ms/step\n",
            "Epoch 82/100\n",
            "469/469 - 7s - loss: 0.0229 - accuracy: 0.9973 - val_loss: 0.1426 - val_accuracy: 0.9906 - 7s/epoch - 15ms/step\n",
            "Epoch 83/100\n",
            "469/469 - 7s - loss: 0.0145 - accuracy: 0.9976 - val_loss: 0.1605 - val_accuracy: 0.9912 - 7s/epoch - 15ms/step\n",
            "Epoch 84/100\n",
            "469/469 - 7s - loss: 0.0101 - accuracy: 0.9982 - val_loss: 0.1667 - val_accuracy: 0.9917 - 7s/epoch - 15ms/step\n",
            "Epoch 85/100\n",
            "469/469 - 7s - loss: 0.0256 - accuracy: 0.9969 - val_loss: 0.1291 - val_accuracy: 0.9912 - 7s/epoch - 15ms/step\n",
            "Epoch 86/100\n",
            "469/469 - 7s - loss: 0.0164 - accuracy: 0.9972 - val_loss: 0.1318 - val_accuracy: 0.9914 - 7s/epoch - 15ms/step\n",
            "Epoch 87/100\n",
            "469/469 - 7s - loss: 0.0140 - accuracy: 0.9982 - val_loss: 0.1270 - val_accuracy: 0.9920 - 7s/epoch - 15ms/step\n",
            "Epoch 88/100\n",
            "469/469 - 7s - loss: 0.0179 - accuracy: 0.9974 - val_loss: 0.1586 - val_accuracy: 0.9915 - 7s/epoch - 15ms/step\n",
            "Epoch 89/100\n",
            "469/469 - 7s - loss: 0.0272 - accuracy: 0.9969 - val_loss: 0.1427 - val_accuracy: 0.9916 - 7s/epoch - 14ms/step\n",
            "Epoch 90/100\n",
            "469/469 - 7s - loss: 0.0170 - accuracy: 0.9973 - val_loss: 0.1597 - val_accuracy: 0.9917 - 7s/epoch - 14ms/step\n",
            "Epoch 91/100\n",
            "469/469 - 7s - loss: 0.0163 - accuracy: 0.9979 - val_loss: 0.2200 - val_accuracy: 0.9923 - 7s/epoch - 15ms/step\n",
            "Epoch 92/100\n",
            "469/469 - 7s - loss: 0.0265 - accuracy: 0.9969 - val_loss: 0.1649 - val_accuracy: 0.9899 - 7s/epoch - 15ms/step\n",
            "Epoch 93/100\n",
            "469/469 - 7s - loss: 0.0177 - accuracy: 0.9975 - val_loss: 0.1880 - val_accuracy: 0.9919 - 7s/epoch - 15ms/step\n",
            "Epoch 94/100\n",
            "469/469 - 7s - loss: 0.0252 - accuracy: 0.9975 - val_loss: 0.2161 - val_accuracy: 0.9904 - 7s/epoch - 15ms/step\n",
            "Epoch 95/100\n",
            "469/469 - 7s - loss: 0.0201 - accuracy: 0.9973 - val_loss: 0.2202 - val_accuracy: 0.9907 - 7s/epoch - 15ms/step\n",
            "Epoch 96/100\n",
            "469/469 - 7s - loss: 0.0172 - accuracy: 0.9981 - val_loss: 0.2478 - val_accuracy: 0.9911 - 7s/epoch - 15ms/step\n",
            "Epoch 97/100\n",
            "469/469 - 7s - loss: 0.0239 - accuracy: 0.9972 - val_loss: 0.1932 - val_accuracy: 0.9917 - 7s/epoch - 15ms/step\n",
            "Epoch 98/100\n",
            "469/469 - 7s - loss: 0.0181 - accuracy: 0.9977 - val_loss: 0.1637 - val_accuracy: 0.9909 - 7s/epoch - 15ms/step\n",
            "Epoch 99/100\n",
            "469/469 - 7s - loss: 0.0147 - accuracy: 0.9981 - val_loss: 0.2104 - val_accuracy: 0.9913 - 7s/epoch - 15ms/step\n",
            "Epoch 100/100\n",
            "469/469 - 7s - loss: 0.0340 - accuracy: 0.9965 - val_loss: 0.1914 - val_accuracy: 0.9907 - 7s/epoch - 15ms/step\n"
          ]
        }
      ],
      "source": [
        "history = model.fit(x_train, y_train, validation_data=(x_test, y_test), epochs=100, batch_size=128, verbose=2)"
      ]
    },
    {
      "cell_type": "code",
      "execution_count": null,
      "metadata": {
        "id": "6r_w2RrSn-yt",
        "colab": {
          "base_uri": "https://localhost:8080/",
          "height": 295
        },
        "outputId": "d17a89f3-4953-4a8d-8074-4bd0a7754ee1"
      },
      "outputs": [
        {
          "output_type": "display_data",
          "data": {
            "text/plain": [
              "<Figure size 432x288 with 1 Axes>"
            ],
            "image/png": "[encoded data removed]"
          },
          "metadata": {
            "needs_background": "light"
          }
        }
      ],
      "source": [
        "plt.plot(history.history['accuracy'], \"r\")\n",
        "plt.plot(history.history['val_accuracy'], \"black\")\n",
        "\n",
        "plt.title('Graph of number of epochs vs accuracy')\n",
        "\n",
        "plt.ylabel('Accuracy on MNIST dataset')\n",
        "plt.xlabel('Number of epochs')\n",
        "\n",
        "plt.legend(['Train accuracy', 'Test accuracy'])\n",
        "plt.show()"
      ]
    },
    {
      "cell_type": "code",
      "execution_count": null,
      "metadata": {
        "id": "W_vzH9nE6ykc",
        "colab": {
          "base_uri": "https://localhost:8080/",
          "height": 295
        },
        "outputId": "428e7dd7-6b47-4886-a5ed-3f4df194cb4c"
      },
      "outputs": [
        {
          "output_type": "display_data",
          "data": {
            "text/plain": [
              "<Figure size 432x288 with 1 Axes>"
            ],
            "image/png": "[encoded data removed]"
          },
          "metadata": {
            "needs_background": "light"
          }
        }
      ],
      "source": [
        "plt.plot(history.history['loss'], \"b\")\n",
        "plt.plot(history.history['val_loss'], \"y\")\n",
        "\n",
        "plt.title('Graph of number of epochs vs loss')\n",
        "\n",
        "plt.ylabel('Loss on MNIST dataset')\n",
        "plt.xlabel('Number of epochs')\n",
        "\n",
        "plt.legend(['Train Loss', 'Test Loss'])\n",
        "plt.show()"
      ]
    },
    {
      "cell_type": "code",
      "execution_count": null,
      "metadata": {
        "id": "V7mbEobeuWg3",
        "colab": {
          "base_uri": "https://localhost:8080/"
        },
        "outputId": "e9ac591a-062d-4d8a-b0eb-918feedd2a7f"
      },
      "outputs": [
        {
          "output_type": "stream",
          "name": "stdout",
          "text": [
            "313/313 - 1s - loss: 0.1914 - accuracy: 0.9907 - 1s/epoch - 5ms/step\n"
          ]
        }
      ],
      "source": [
        "test_loss, test_accuracy = model.evaluate(x_test, y_test, verbose= 2)"
      ]
    },
    {
      "cell_type": "code",
      "execution_count": null,
      "metadata": {
        "id": "-qRgLJohudZi",
        "colab": {
          "base_uri": "https://localhost:8080/"
        },
        "outputId": "28f15d0a-f8c3-4e90-d795-2941b0ca8777"
      },
      "outputs": [
        {
          "output_type": "stream",
          "name": "stdout",
          "text": [
            "Test Loss on the MNIST dataset: 0.19141586124897003\n"
          ]
        }
      ],
      "source": [
        "print(\"Test Loss on the MNIST dataset:\", test_loss)"
      ]
    },
    {
      "cell_type": "code",
      "execution_count": null,
      "metadata": {
        "id": "zScUDR9yoUjy",
        "colab": {
          "base_uri": "https://localhost:8080/"
        },
        "outputId": "0d53a660-df01-43bc-8c89-783220eae1dc"
      },
      "outputs": [
        {
          "output_type": "stream",
          "name": "stdout",
          "text": [
            "Test accuracy of the MNIST datset: 99.07000064849854\n"
          ]
        }
      ],
      "source": [
        "print('Test accuracy of the MNIST datset:', test_accuracy*100)"
      ]
    },
    {
      "cell_type": "code",
      "source": [
        ""
      ],
      "metadata": {
        "id": "BvIhlBXyvUnp"
      },
      "execution_count": null,
      "outputs": []
    }
  ],
  "metadata": {
    "accelerator": "GPU",
    "colab": {
      "collapsed_sections": [],
      "name": "data_augmentation_final.ipynb",
      "provenance": []
    },
    "kernelspec": {
      "display_name": "Python 3",
      "name": "python3"
    },
    "language_info": {
      "name": "python"
    }
  },
  "nbformat": 4,
  "nbformat_minor": 0
}